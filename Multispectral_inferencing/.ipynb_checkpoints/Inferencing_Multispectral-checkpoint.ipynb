{
 "cells": [
  {
   "cell_type": "code",
   "execution_count": null,
   "id": "8256fa36-6192-4aa5-ab50-497609c98da6",
   "metadata": {},
   "outputs": [],
   "source": [
    "import os\n",
    "from tqdm import tqdm\n",
    "from osgeo import gdal\n",
    "import rasterio\n",
    "import numpy as np\n",
    "import cv2\n",
    "from shapely.geometry import Polygon\n",
    "import geopandas as gpd\n",
    "from skimage.measure import find_contours as fc\n",
    "from shapely.geometry import Polygon, LineString\n",
    "import geopandas as gpd\n",
    "\n",
    "\n",
    "from mmengine import Config\n",
    "from mmseg.apis import init_model, inference_model, show_result_pyplot\n",
    "import matplotlib.pyplot as plt"
   ]
  },
  {
   "cell_type": "code",
   "execution_count": 2,
   "id": "e8fa3034-c304-4ed2-a26d-e9f0881ee271",
   "metadata": {},
   "outputs": [],
   "source": [
    "class RSI_inferencer:\n",
    "    def __init__(self, input_path: str, output_path: str, input_file_extension: str = '.tif'):\n",
    "        \"\"\"Initializes the RSI_inferencer instance. \n",
    "        RSI_inferences is used for make predictions of test/valid data and geoferencing them \n",
    "        \n",
    "        Args:\n",
    "            input_path (str): The directory path where input images are located.\n",
    "            output_path (str): The directory path where output images will be saved.\n",
    "            input_file_extension (str, optional): The file extension of input images. Defaults to '.tif'.\n",
    "        \"\"\"\n",
    "        \n",
    "        self.input_path = input_path\n",
    "        self.output_path = output_path\n",
    "        self.input_file_extension = input_file_extension\n",
    "\n",
    "        self.input_images = os.listdir(self.input_path)\n",
    "        self.input_images = [x for x in self.input_images if input_file_extension == x[-len(input_file_extension):]]\n",
    "        self.input_images.sort()\n",
    "\n",
    "    def _inference_data(self, model, path_of_an_image):\n",
    "        \"\"\"Performs inference on a single image using a specified model.\n",
    "        \n",
    "        Args:\n",
    "            model: The model to use for inference, mm_segmentation model is expected\n",
    "            path_of_an_image (str): The file path of the image to perform inference on.\n",
    "            \n",
    "        Returns:\n",
    "            tuple: A tuple containing the original image array and the inference results array.\n",
    "        \"\"\"\n",
    "        \n",
    "        ds = gdal.Open(path_of_an_image)\n",
    "        new_rsi_image = np.array(ds.ReadAsArray()).astype(np.float32)\n",
    "        new_rsi_image = new_rsi_image.transpose(1,2,0)\n",
    "\n",
    "        results = inference_model(model, new_rsi_image)\n",
    "        results = results.pred_sem_seg.data[0].cpu().numpy()\n",
    "        \n",
    "        return new_rsi_image, results\n",
    "    \n",
    "    def inference_input_data(self, model):\n",
    "        \"\"\"Performs inference on all input images using a specified model.\n",
    "        \n",
    "        Args:\n",
    "            model: The model to use for inference.\n",
    "        \"\"\"\n",
    "\n",
    "        for single_image_name in tqdm(self.input_images):\n",
    "            input_file = os.path.join(self.input_path, single_image_name)\n",
    "            \n",
    "            _, results = self._inference_data(model, input_file)\n",
    "            \n",
    "            saving_path = os.path.join(self.output_path, single_image_name)\n",
    "            output_file = self.write_geotiff(results, input_file, saving_path)\n",
    "\n",
    "            \n",
    "    def write_geotiff(self, out, raster_file, output_file):\n",
    "        \"\"\"Writes a georeferenced TIFF file using the output from the segmentation model.\n",
    "        \n",
    "        Args:\n",
    "            out (ndarray): The output array from the segmentation model.\n",
    "            raster_file (str): The file path of the original raster file.\n",
    "            output_file (str): The file path where the georeferenced TIFF will be saved.\n",
    "            \n",
    "        \"\"\"\n",
    "        \n",
    "        with rasterio.open(raster_file) as src:    \n",
    "            ras_meta = src.profile\n",
    "            ras_meta.update(count=1)\n",
    "            with rasterio.open(output_file, 'w', **ras_meta) as dst:   \n",
    "                dst.write(np.reshape(out, (1,) + out.shape)) "
   ]
  },
  {
   "cell_type": "code",
   "execution_count": 3,
   "id": "66e0d8ed-8f55-4e62-8126-de0ad2d4f403",
   "metadata": {},
   "outputs": [],
   "source": [
    "input_dir_path = 'path to folder with input images to infenrence'\n",
    "output_dir_path = 'path to folder where to save results'"
   ]
  },
  {
   "cell_type": "code",
   "execution_count": 4,
   "id": "9731cd1f-91b0-4add-8f25-82acb738192d",
   "metadata": {},
   "outputs": [],
   "source": [
    "path_config = 'path to config of mmsegmentation model'\n",
    "path_checkpoint = 'path to checkpoint of mmsegmentation model'"
   ]
  },
  {
   "cell_type": "code",
   "execution_count": null,
   "id": "7c145e4f-dd32-4661-9c83-3766a02a36e7",
   "metadata": {},
   "outputs": [],
   "source": [
    "cfg = Config.fromfile(path_config)\n",
    "cfg.work_dir = \"./work_dirs\"\n",
    "model = init_model(cfg, path_checkpoint, 'cuda:0')"
   ]
  },
  {
   "cell_type": "code",
   "execution_count": 18,
   "id": "64303d16-6288-4e6b-a334-677c140c0b28",
   "metadata": {},
   "outputs": [],
   "source": [
    "inferencer = RSI_inferencer(input_dir_path, output_dir_path)\n"
   ]
  },
  {
   "cell_type": "code",
   "execution_count": null,
   "id": "c9815d4a-8444-4069-b71b-b8151a828a65",
   "metadata": {},
   "outputs": [],
   "source": [
    "inferencer.inference_input_data(model)"
   ]
  }
 ],
 "metadata": {
  "kernelspec": {
   "display_name": "Python 3 (ipykernel)",
   "language": "python",
   "name": "python3"
  },
  "language_info": {
   "codemirror_mode": {
    "name": "ipython",
    "version": 3
   },
   "file_extension": ".py",
   "mimetype": "text/x-python",
   "name": "python",
   "nbconvert_exporter": "python",
   "pygments_lexer": "ipython3",
   "version": "3.10.12"
  }
 },
 "nbformat": 4,
 "nbformat_minor": 5
}
